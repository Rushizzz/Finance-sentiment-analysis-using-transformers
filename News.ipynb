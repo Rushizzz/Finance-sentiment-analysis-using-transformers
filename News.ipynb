{
 "cells": [
  {
   "cell_type": "code",
   "execution_count": 1,
   "id": "3069a528-f696-4243-b95c-187885b58237",
   "metadata": {},
   "outputs": [],
   "source": [
    "import requests\n",
    "\n",
    "instrument_key = \"NSE_EQ|INE081A01020\"\n",
    "interval = \"1minute\"\n",
    "to_day = \"2024-02-02\"\n",
    "from_day = \"2024-02-01\"\n",
    "url = f\"https://api.upstox.com/v2/historical-candle/{instrument_key}/{interval}/{to_day}/{from_day}\"\n",
    "\n",
    "payload={}\n",
    "headers = {\n",
    "  'Accept': 'application/json'\n",
    "}\n",
    "\n",
    "response = requests.request(\"GET\", url, headers=headers, data=payload)\n",
    "\n",
    "resutl = {}\n",
    "result = response"
   ]
  },
  {
   "cell_type": "code",
   "execution_count": 2,
   "id": "4979469d-c90f-4739-8fa1-177c4ab6fc58",
   "metadata": {},
   "outputs": [
    {
     "data": {
      "text/plain": [
       "<Response [200]>"
      ]
     },
     "execution_count": 2,
     "metadata": {},
     "output_type": "execute_result"
    }
   ],
   "source": [
    "result"
   ]
  },
  {
   "cell_type": "code",
   "execution_count": 3,
   "id": "403da9f0-79cf-4916-83ea-a824ecf059da",
   "metadata": {},
   "outputs": [],
   "source": [
    "result = response.json()"
   ]
  },
  {
   "cell_type": "code",
   "execution_count": 4,
   "id": "0a92d6d2-842d-45d1-bfbf-1a45c526dac8",
   "metadata": {},
   "outputs": [],
   "source": [
    "price_list = []\n",
    "for i in range(len(result['data']['candles'])):\n",
    "    price_list.append(result['data']['candles'][i][4])"
   ]
  },
  {
   "cell_type": "code",
   "execution_count": 5,
   "id": "5c538242-6247-46f2-93a9-a4f1a40930c1",
   "metadata": {},
   "outputs": [
    {
     "data": {
      "text/plain": [
       "[]"
      ]
     },
     "execution_count": 5,
     "metadata": {},
     "output_type": "execute_result"
    }
   ],
   "source": [
    "price_list"
   ]
  },
  {
   "cell_type": "code",
   "execution_count": null,
   "id": "f524825c-388b-493e-aceb-cb2a916cf95a",
   "metadata": {},
   "outputs": [],
   "source": []
  }
 ],
 "metadata": {
  "kernelspec": {
   "display_name": ".venv",
   "language": "python",
   "name": "python3"
  },
  "language_info": {
   "codemirror_mode": {
    "name": "ipython",
    "version": 3
   },
   "file_extension": ".py",
   "mimetype": "text/x-python",
   "name": "python",
   "nbconvert_exporter": "python",
   "pygments_lexer": "ipython3",
   "version": "3.13.1"
  }
 },
 "nbformat": 4,
 "nbformat_minor": 5
}
