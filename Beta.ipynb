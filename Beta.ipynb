{
 "cells": [
  {
   "cell_type": "code",
   "execution_count": 6,
   "id": "c1d3133b-9c58-473c-aa82-30c8b66605bd",
   "metadata": {},
   "outputs": [],
   "source": [
    "from datasets import load_dataset"
   ]
  },
  {
   "cell_type": "code",
   "execution_count": 7,
   "id": "35433aa2-1776-41ca-84d4-3495955a3a55",
   "metadata": {},
   "outputs": [
    {
     "name": "stderr",
     "output_type": "stream",
     "text": [
      "Generating train split: 100%|██████████| 4846/4846 [00:00<00:00, 65929.05 examples/s]\n"
     ]
    }
   ],
   "source": [
    "data = load_dataset('financial_phrasebank', 'sentences_50agree')"
   ]
  },
  {
   "cell_type": "code",
   "execution_count": 8,
   "id": "ad661f67-75ce-4280-9ed5-0049a6e26741",
   "metadata": {},
   "outputs": [
    {
     "name": "stderr",
     "output_type": "stream",
     "text": [
      "Device set to use cuda:0\n"
     ]
    }
   ],
   "source": [
    "from transformers import pipeline, AutoTokenizer, AutoModelForSequenceClassification\n",
    "\n",
    "model_name = \"mrm8488/distilroberta-finetuned-financial-news-sentiment-analysis\"\n",
    "model = AutoModelForSequenceClassification.from_pretrained(model_name)\n",
    "tokenizer = AutoTokenizer.from_pretrained(model_name)\n",
    "classifier = pipeline(\"sentiment-analysis\",model=model, tokenizer= tokenizer)"
   ]
  },
  {
   "cell_type": "code",
   "execution_count": 9,
   "id": "ae2ca94d-bef8-42f5-861f-feb27cbae1cd",
   "metadata": {},
   "outputs": [],
   "source": [
    "def tempo(val):\n",
    "    print(x_train[val])\n",
    "    dict = {\n",
    "        0: 'negative',\n",
    "        1: 'neutral',\n",
    "        2: 'positive'\n",
    "    }\n",
    "    result = dict[y_train[val]]\n",
    "    print(result)\n",
    "    print(classifier.predict(x_train[val]))"
   ]
  },
  {
   "cell_type": "code",
   "execution_count": 10,
   "id": "12582dd0-9fe2-4cba-80e7-c73873001503",
   "metadata": {},
   "outputs": [],
   "source": [
    "import requests\n",
    "\n",
    "url = ('https://newsapi.org/v2/top-headlines?sources=google-news-in&category=business&apiKey=cef60813d9da4655ae7fe2ef2446060a')\n",
    "\n",
    "url3 = ('https://newsapi.org/v2/top-headlines?country=in&category=business&apiKey=cef60813d9da4655ae7fe2ef2446060a')\n",
    "\n",
    "def GetNewsOnEverything(query):\n",
    "    url2 = (f'https://newsapi.org/v2/everything?q={query}&apiKey=cef60813d9da4655ae7fe2ef2446060a')\n",
    "    response = requests.get(url2)\n",
    "    dict = {}\n",
    "    # print(response.json())\n",
    "    dict = response.json()\n",
    "    return dict\n",
    "\n",
    "newsDict = GetNewsOnEverything(\"Infosys\")"
   ]
  },
  {
   "cell_type": "code",
   "execution_count": 11,
   "id": "171e9284-692a-4045-8528-c1058b470412",
   "metadata": {},
   "outputs": [],
   "source": [
    "def get_joined_string(newsDict):\n",
    "    temp_string = []\n",
    "    for i in range(len(newsDict['articles'])):\n",
    "        temp = newsDict['articles'][i]\n",
    "        title = temp['title']\n",
    "        description = temp['description']\n",
    "        content = temp['content']\n",
    "        try:\n",
    "            final_string = title+description+content\n",
    "        except ValueError:\n",
    "            if type(title) == None:\n",
    "                title = \"\"\n",
    "            if type(description) == None:\n",
    "                description = \"\"\n",
    "            if type(content) == None:\n",
    "                content = \"\"\n",
    "            final_string = title+description+content\n",
    "        except Exception as e:\n",
    "            print(\"An error occurred:\", e)\n",
    "        temp_string.append(final_string)\n",
    "    return temp_string"
   ]
  },
  {
   "cell_type": "code",
   "execution_count": 12,
   "id": "e6b52ca3-45a8-4e38-a849-ab147a290b67",
   "metadata": {},
   "outputs": [],
   "source": [
    "def tempo(score_list):\n",
    "    dict = {\n",
    "        'negative': -1,\n",
    "        'neutral': 0,\n",
    "        'positive': 1\n",
    "    }\n",
    "    score = []\n",
    "    for i in score_list:\n",
    "        temp = i['label']\n",
    "        temp = dict[temp]\n",
    "        score.append(temp)\n",
    "    total_score = sum(score) \n",
    "    return total_score"
   ]
  },
  {
   "cell_type": "code",
   "execution_count": 13,
   "id": "893f57dc-c95e-4eaa-bc8b-20bfc0c1a5d9",
   "metadata": {},
   "outputs": [
    {
     "ename": "NameError",
     "evalue": "name 'score_list' is not defined",
     "output_type": "error",
     "traceback": [
      "\u001b[0;31m---------------------------------------------------------------------------\u001b[0m",
      "\u001b[0;31mNameError\u001b[0m                                 Traceback (most recent call last)",
      "Cell \u001b[0;32mIn[13], line 1\u001b[0m\n\u001b[0;32m----> 1\u001b[0m tempo(\u001b[43mscore_list\u001b[49m)\n",
      "\u001b[0;31mNameError\u001b[0m: name 'score_list' is not defined"
     ]
    }
   ],
   "source": [
    "tempo(score_list)"
   ]
  },
  {
   "cell_type": "code",
   "execution_count": null,
   "id": "32206fb1-46d2-4049-85ea-edf1502efad0",
   "metadata": {},
   "outputs": [],
   "source": []
  }
 ],
 "metadata": {
  "kernelspec": {
   "display_name": ".venv",
   "language": "python",
   "name": "python3"
  },
  "language_info": {
   "codemirror_mode": {
    "name": "ipython",
    "version": 3
   },
   "file_extension": ".py",
   "mimetype": "text/x-python",
   "name": "python",
   "nbconvert_exporter": "python",
   "pygments_lexer": "ipython3",
   "version": "3.13.1"
  }
 },
 "nbformat": 4,
 "nbformat_minor": 5
}
