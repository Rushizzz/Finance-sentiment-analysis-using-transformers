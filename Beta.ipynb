{
 "cells": [
  {
   "cell_type": "code",
   "execution_count": 1,
   "id": "c1d3133b-9c58-473c-aa82-30c8b66605bd",
   "metadata": {},
   "outputs": [],
   "source": [
    "from datasets import load_dataset"
   ]
  },
  {
   "cell_type": "code",
   "execution_count": 2,
   "id": "35433aa2-1776-41ca-84d4-3495955a3a55",
   "metadata": {},
   "outputs": [],
   "source": [
    "data = load_dataset('financial_phrasebank', 'sentences_50agree')"
   ]
  },
  {
   "cell_type": "code",
   "execution_count": 3,
   "id": "c97f271a-cbbc-4a0d-9240-641f656c884d",
   "metadata": {},
   "outputs": [],
   "source": [
    "df = data['train']"
   ]
  },
  {
   "cell_type": "code",
   "execution_count": 4,
   "id": "4868c7b7-5fb0-4e82-8d3a-165f38e083d0",
   "metadata": {},
   "outputs": [],
   "source": [
    "x = df['sentence']\n",
    "y = df['label']"
   ]
  },
  {
   "cell_type": "code",
   "execution_count": 5,
   "id": "2955a530-8edd-468b-ae8a-1bad29a29036",
   "metadata": {},
   "outputs": [],
   "source": [
    "from sklearn.model_selection import train_test_split\n",
    "\n",
    "\n",
    "x_train, x_test, y_train, y_test = train_test_split(x, y, test_size=0.2, random_state=42)\n"
   ]
  },
  {
   "cell_type": "code",
   "execution_count": 7,
   "id": "ad661f67-75ce-4280-9ed5-0049a6e26741",
   "metadata": {},
   "outputs": [
    {
     "data": {
      "application/vnd.jupyter.widget-view+json": {
       "model_id": "3d886ad6b0004a83a87c043d1f9c4231",
       "version_major": 2,
       "version_minor": 0
      },
      "text/plain": [
       "config.json:   0%|          | 0.00/933 [00:00<?, ?B/s]"
      ]
     },
     "metadata": {},
     "output_type": "display_data"
    },
    {
     "name": "stderr",
     "output_type": "stream",
     "text": [
      "C:\\Users\\rushi\\.conda\\envs\\Finance\\Lib\\site-packages\\huggingface_hub\\file_download.py:149: UserWarning: `huggingface_hub` cache-system uses symlinks by default to efficiently store duplicated files but your machine does not support them in C:\\Users\\rushi\\.cache\\huggingface\\hub\\models--mrm8488--distilroberta-finetuned-financial-news-sentiment-analysis. Caching files will still work but in a degraded version that might require more space on your disk. This warning can be disabled by setting the `HF_HUB_DISABLE_SYMLINKS_WARNING` environment variable. For more details, see https://huggingface.co/docs/huggingface_hub/how-to-cache#limitations.\n",
      "To support symlinks on Windows, you either need to activate Developer Mode or to run Python as an administrator. In order to see activate developer mode, see this article: https://docs.microsoft.com/en-us/windows/apps/get-started/enable-your-device-for-development\n",
      "  warnings.warn(message)\n"
     ]
    },
    {
     "data": {
      "application/vnd.jupyter.widget-view+json": {
       "model_id": "1a3b3cc7b91245b9b0edc7720fc1ede0",
       "version_major": 2,
       "version_minor": 0
      },
      "text/plain": [
       "model.safetensors:   0%|          | 0.00/328M [00:00<?, ?B/s]"
      ]
     },
     "metadata": {},
     "output_type": "display_data"
    },
    {
     "data": {
      "application/vnd.jupyter.widget-view+json": {
       "model_id": "9a0c43cf34b24819878a2f5d7108bab5",
       "version_major": 2,
       "version_minor": 0
      },
      "text/plain": [
       "tokenizer_config.json:   0%|          | 0.00/333 [00:00<?, ?B/s]"
      ]
     },
     "metadata": {},
     "output_type": "display_data"
    },
    {
     "data": {
      "application/vnd.jupyter.widget-view+json": {
       "model_id": "0227a0b00f554f6fb21f9f2949c34c80",
       "version_major": 2,
       "version_minor": 0
      },
      "text/plain": [
       "vocab.json:   0%|          | 0.00/798k [00:00<?, ?B/s]"
      ]
     },
     "metadata": {},
     "output_type": "display_data"
    },
    {
     "data": {
      "application/vnd.jupyter.widget-view+json": {
       "model_id": "4ceae6752b984cdba62da9083c80f01e",
       "version_major": 2,
       "version_minor": 0
      },
      "text/plain": [
       "merges.txt:   0%|          | 0.00/456k [00:00<?, ?B/s]"
      ]
     },
     "metadata": {},
     "output_type": "display_data"
    },
    {
     "data": {
      "application/vnd.jupyter.widget-view+json": {
       "model_id": "6d3a1534bbb742509064cc9fdfb58bf9",
       "version_major": 2,
       "version_minor": 0
      },
      "text/plain": [
       "tokenizer.json:   0%|          | 0.00/1.36M [00:00<?, ?B/s]"
      ]
     },
     "metadata": {},
     "output_type": "display_data"
    },
    {
     "data": {
      "application/vnd.jupyter.widget-view+json": {
       "model_id": "ffc8102b3cca472c8b3b42c593eb45da",
       "version_major": 2,
       "version_minor": 0
      },
      "text/plain": [
       "special_tokens_map.json:   0%|          | 0.00/239 [00:00<?, ?B/s]"
      ]
     },
     "metadata": {},
     "output_type": "display_data"
    }
   ],
   "source": [
    "from transformers import pipeline, AutoTokenizer, AutoModelForSequenceClassification\n",
    "\n",
    "model_name = \"mrm8488/distilroberta-finetuned-financial-news-sentiment-analysis\"\n",
    "model = AutoModelForSequenceClassification.from_pretrained(model_name)\n",
    "tokenizer = AutoTokenizer.from_pretrained(model_name)\n",
    "classifier = pipeline(\"sentiment-analysis\",model=model, tokenizer= tokenizer)"
   ]
  },
  {
   "cell_type": "code",
   "execution_count": 61,
   "id": "ae2ca94d-bef8-42f5-861f-feb27cbae1cd",
   "metadata": {},
   "outputs": [],
   "source": [
    "def tempo(val):\n",
    "    print(x_train[val])\n",
    "    dict = {\n",
    "        0: 'negative',\n",
    "        1: 'neutral',\n",
    "        2: 'positive'\n",
    "    }\n",
    "    result = dict[y_train[val]]\n",
    "    print(result)\n",
    "    print(classifier.predict(x_train[val]))"
   ]
  },
  {
   "cell_type": "code",
   "execution_count": 8,
   "id": "ffc17ed6-2d39-4cd4-9c6f-bced2542f0bf",
   "metadata": {},
   "outputs": [
    {
     "data": {
      "text/plain": [
       "[{'label': 'negative', 'score': 0.9928297400474548}]"
      ]
     },
     "execution_count": 8,
     "metadata": {},
     "output_type": "execute_result"
    }
   ],
   "source": [
    "news = \"LONDON Indian firm Tata Steel announced Friday it will close both blast furnaces at its plant in Port Talbot, Wales, eliminating 2,800 jobs, as part of plans to make its unprofitable U.K. operation\"\n",
    "classifier.predict(news)"
   ]
  },
  {
   "cell_type": "code",
   "execution_count": 9,
   "id": "12582dd0-9fe2-4cba-80e7-c73873001503",
   "metadata": {},
   "outputs": [],
   "source": [
    "import requests\n",
    "\n",
    "url = ('https://newsapi.org/v2/top-headlines?sources=google-news-in&category=business&apiKey=cef60813d9da4655ae7fe2ef2446060a')\n",
    "\n",
    "url3 = ('https://newsapi.org/v2/top-headlines?country=in&category=business&apiKey=cef60813d9da4655ae7fe2ef2446060a')\n",
    "\n",
    "def GetNewsOnEverything(query):\n",
    "    url2 = (f'https://newsapi.org/v2/everything?q={query}&apiKey=cef60813d9da4655ae7fe2ef2446060a')\n",
    "    response = requests.get(url2)\n",
    "    dict = {}\n",
    "    # print(response.json())\n",
    "    dict = response.json()\n",
    "    return dict\n",
    "\n",
    "newsDict = GetNewsOnEverything(\"Tata Steel\")"
   ]
  },
  {
   "cell_type": "code",
   "execution_count": 12,
   "id": "9e18ec0e-d690-4ff9-b2e6-73d561378326",
   "metadata": {},
   "outputs": [
    {
     "data": {
      "text/plain": [
       "{'source': {'id': 'bbc-news', 'name': 'BBC News'},\n",
       " 'author': 'https://www.facebook.com/bbcnews',\n",
       " 'title': \"The Papers: Rwanda plan ‘won’t work’ and steel jobs 'betrayal'\",\n",
       " 'description': 'The papers lead on a variety of stories, from polling on migration, to Tata steel job losses and measles.',\n",
       " 'url': 'https://www.bbc.co.uk/news/blogs-the-papers-68038593',\n",
       " 'urlToImage': 'https://ichef.bbci.co.uk/news/1024/branded_news/CCFD/production/_132377425_index-nc.jpg',\n",
       " 'publishedAt': '2024-01-20T00:13:31Z',\n",
       " 'content': \"Image caption, A variety of stories make the front pages of Saturday's newspapers. The i newspaper leads on a polling about the prime minister's plan to send some asylum seekers to Rwanda for process… [+2724 chars]\"}"
      ]
     },
     "execution_count": 12,
     "metadata": {},
     "output_type": "execute_result"
    }
   ],
   "source": [
    "temp = newsDict['articles'][0]\n",
    "temp"
   ]
  },
  {
   "cell_type": "code",
   "execution_count": 15,
   "id": "63b0948f-2d43-4920-8d8c-e9320b0dc658",
   "metadata": {},
   "outputs": [],
   "source": [
    "title = temp['title']\n",
    "description = temp['description']\n",
    "content = temp['content']"
   ]
  },
  {
   "cell_type": "code",
   "execution_count": 17,
   "id": "a3b3cf16-3181-479d-824b-ad3c193858ea",
   "metadata": {},
   "outputs": [],
   "source": [
    "final_string = title+description+content"
   ]
  },
  {
   "cell_type": "code",
   "execution_count": 18,
   "id": "99819b95-5172-4793-a889-616a95fdc158",
   "metadata": {},
   "outputs": [
    {
     "data": {
      "text/plain": [
       "[{'label': 'negative', 'score': 0.9740871787071228}]"
      ]
     },
     "execution_count": 18,
     "metadata": {},
     "output_type": "execute_result"
    }
   ],
   "source": [
    "classifier.predict(final_string)"
   ]
  },
  {
   "cell_type": "code",
   "execution_count": 27,
   "id": "171e9284-692a-4045-8528-c1058b470412",
   "metadata": {},
   "outputs": [],
   "source": [
    "def get_joined_string(newsDict):\n",
    "    temp_string = []\n",
    "    for i in range(len(newsDict['articles'])):\n",
    "        temp = newsDict['articles'][i]\n",
    "        title = temp['title']\n",
    "        description = temp['description']\n",
    "        content = temp['content']\n",
    "        try:\n",
    "            final_string = title+description+content\n",
    "        except ValueError:\n",
    "            if type(title) == None:\n",
    "                title = \"\"\n",
    "            if type(description) == None:\n",
    "                description = \"\"\n",
    "            if type(content) == None:\n",
    "                content = \"\"\n",
    "            final_string = title+description+content\n",
    "        except Exception as e:\n",
    "            print(\"An error occurred:\", e)\n",
    "        temp_string.append(final_string)\n",
    "    return temp_string"
   ]
  },
  {
   "cell_type": "code",
   "execution_count": 28,
   "id": "66d2a276-095f-4aa6-aef9-3029bcb78d2c",
   "metadata": {},
   "outputs": [
    {
     "name": "stdout",
     "output_type": "stream",
     "text": [
      "An error occurred: can only concatenate str (not \"NoneType\") to str\n",
      "An error occurred: can only concatenate str (not \"NoneType\") to str\n",
      "An error occurred: can only concatenate str (not \"NoneType\") to str\n",
      "An error occurred: can only concatenate str (not \"NoneType\") to str\n",
      "An error occurred: can only concatenate str (not \"NoneType\") to str\n"
     ]
    }
   ],
   "source": [
    "temp_string = get_joined_string(newsDict)"
   ]
  },
  {
   "cell_type": "code",
   "execution_count": 30,
   "id": "4f6fd5cd-aba2-484e-a8fa-7b9022f7d547",
   "metadata": {},
   "outputs": [],
   "source": [
    "score_list = classifier.predict(temp_string)"
   ]
  },
  {
   "cell_type": "code",
   "execution_count": 34,
   "id": "afd9f014-adf9-48b0-b2cd-fcb736f88d7a",
   "metadata": {},
   "outputs": [
    {
     "data": {
      "text/plain": [
       "{'label': 'negative', 'score': 0.9740871787071228}"
      ]
     },
     "execution_count": 34,
     "metadata": {},
     "output_type": "execute_result"
    }
   ],
   "source": [
    "score_list[0]"
   ]
  },
  {
   "cell_type": "code",
   "execution_count": 40,
   "id": "e6b52ca3-45a8-4e38-a849-ab147a290b67",
   "metadata": {},
   "outputs": [],
   "source": [
    "def tempo(score_list):\n",
    "    dict = {\n",
    "        'negative': -1,\n",
    "        'neutral': 0,\n",
    "        'positive': 1\n",
    "    }\n",
    "    score = []\n",
    "    for i in score_list:\n",
    "        temp = i['label']\n",
    "        temp = dict[temp]\n",
    "        score.append(temp)\n",
    "    total_score = sum(score) \n",
    "    return total_score"
   ]
  },
  {
   "cell_type": "code",
   "execution_count": 41,
   "id": "893f57dc-c95e-4eaa-bc8b-20bfc0c1a5d9",
   "metadata": {},
   "outputs": [
    {
     "data": {
      "text/plain": [
       "-9"
      ]
     },
     "execution_count": 41,
     "metadata": {},
     "output_type": "execute_result"
    }
   ],
   "source": [
    "tempo(score_list)"
   ]
  },
  {
   "cell_type": "code",
   "execution_count": null,
   "id": "dce5dc3a-ac72-4c98-a799-4f746dd32182",
   "metadata": {},
   "outputs": [],
   "source": []
  }
 ],
 "metadata": {
  "kernelspec": {
   "display_name": "Python 3 (ipykernel)",
   "language": "python",
   "name": "python3"
  },
  "language_info": {
   "codemirror_mode": {
    "name": "ipython",
    "version": 3
   },
   "file_extension": ".py",
   "mimetype": "text/x-python",
   "name": "python",
   "nbconvert_exporter": "python",
   "pygments_lexer": "ipython3",
   "version": "3.11.7"
  }
 },
 "nbformat": 4,
 "nbformat_minor": 5
}
