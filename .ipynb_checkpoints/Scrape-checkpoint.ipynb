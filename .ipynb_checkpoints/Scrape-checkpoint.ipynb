{
 "cells": [
  {
   "cell_type": "code",
   "execution_count": 3,
   "id": "a9e50a11-e42a-47db-8516-a4d1d635068a",
   "metadata": {},
   "outputs": [],
   "source": [
    "def give_list(query = \"Tata Steels\", class_name_1=\"JtKRv\", class_name_2=\"hvbAAd\"):\n",
    "    import requests\n",
    "    from bs4 import BeautifulSoup\n",
    "    import time\n",
    "    \n",
    "    company_name = query\n",
    "    company_name_processed = company_name.replace(\" \", \"%20\")\n",
    "    \n",
    "    url = f'https://news.google.com/search?q={company_name_processed}&hl=en-IN&gl=IN&ceid=IN%3Aen'\n",
    "    \n",
    "    response = requests.get(url)\n",
    "    soup = BeautifulSoup(response.text, 'html.parser')\n",
    "\n",
    "    class_name = class_name_1\n",
    "    temp = soup.find_all(class_=class_name)\n",
    "    published_at = soup.find_all(class_=class_name_2)\n",
    "    \n",
    "    result_list = []\n",
    "    \n",
    "    for t, p in zip(temp, published_at):\n",
    "        # Split the time string into value and unit\n",
    "        time_string = p.text[:-4]\n",
    "        parts = time_string.split(maxsplit=1)\n",
    "        \n",
    "        if len(parts) == 2:\n",
    "            value, unit = parts\n",
    "            # Convert the numeric value to an integer (if possible)\n",
    "            try:\n",
    "                numeric_value = int(value)\n",
    "            except ValueError:\n",
    "                # Handle cases where the value cannot be converted to an integer\n",
    "                numeric_value = None\n",
    "        else:\n",
    "            # Handle cases where the time string doesn't match the expected format\n",
    "            numeric_value = None\n",
    "            unit = time_string\n",
    "        \n",
    "        pair = {\"Time\": [numeric_value, unit], \"Context\": t.text}\n",
    "        result_list.append(pair)\n",
    "    return result_list\n",
    "\n",
    "def tempo(classifier, result_list):\n",
    "    score_list = []\n",
    "    for i in result_list:\n",
    "        score_list.append(classifier.predict(i['Context']))\n",
    "    dict = {\n",
    "        'negative': -1,\n",
    "        'neutral': 0,\n",
    "        'positive': 1\n",
    "    }\n",
    "    score = []\n",
    "    for i in score_list:\n",
    "        temp = i[0]['label']\n",
    "        temp = dict[temp]\n",
    "        score.append(temp)\n",
    "    total_score = sum(score) \n",
    "    return score_list,total_score"
   ]
  },
  {
   "cell_type": "code",
   "execution_count": 4,
   "id": "c9f768fe-14fa-4b51-8a14-85125e8767d7",
   "metadata": {},
   "outputs": [],
   "source": [
    "from datasets import load_dataset\n",
    "\n",
    "from transformers import pipeline, AutoTokenizer, AutoModelForSequenceClassification\n",
    "\n",
    "model_name = \"mrm8488/distilroberta-finetuned-financial-news-sentiment-analysis\"\n",
    "model = AutoModelForSequenceClassification.from_pretrained(model_name)\n",
    "tokenizer = AutoTokenizer.from_pretrained(model_name)\n",
    "classifier = pipeline(\"sentiment-analysis\",model=model, tokenizer= tokenizer)\n"
   ]
  },
  {
   "cell_type": "code",
   "execution_count": 15,
   "id": "672174b9-a8ba-4888-aee1-72ff27e6f59b",
   "metadata": {},
   "outputs": [
    {
     "name": "stdin",
     "output_type": "stream",
     "text": [
      " Reliance Industries\n"
     ]
    },
    {
     "name": "stdout",
     "output_type": "stream",
     "text": [
      "Total score = 40\n",
      "Some random labels \n",
      " [[{'label': 'neutral', 'score': 0.9993946552276611}], [{'label': 'positive', 'score': 0.9995423555374146}], [{'label': 'negative', 'score': 0.9943135976791382}], [{'label': 'positive', 'score': 0.9989349246025085}], [{'label': 'positive', 'score': 0.9991374015808105}]]\n"
     ]
    }
   ],
   "source": [
    "input_query = input()\n",
    "result_list = give_list(query = input_query)\n",
    "temp,temp_score = tempo(classifier, result_list)\n",
    "\n",
    "print(f'Total score = {temp_score}')\n",
    "print(\"Some random labels \\n\",temp[:5])"
   ]
  },
  {
   "cell_type": "code",
   "execution_count": null,
   "id": "c4c01a53-5097-4579-a8a5-7138191ff7e3",
   "metadata": {},
   "outputs": [],
   "source": []
  }
 ],
 "metadata": {
  "kernelspec": {
   "display_name": "Python 3 (ipykernel)",
   "language": "python",
   "name": "python3"
  },
  "language_info": {
   "codemirror_mode": {
    "name": "ipython",
    "version": 3
   },
   "file_extension": ".py",
   "mimetype": "text/x-python",
   "name": "python",
   "nbconvert_exporter": "python",
   "pygments_lexer": "ipython3",
   "version": "3.11.7"
  }
 },
 "nbformat": 4,
 "nbformat_minor": 5
}
